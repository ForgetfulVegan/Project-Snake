{
 "cells": [
  {
   "cell_type": "code",
   "execution_count": 6,
   "metadata": {},
   "outputs": [],
   "source": [
    "import pandas as pd\n",
    "import numpy as np\n",
    "import matplotlib.pyplot as plt\n",
    "import csv"
   ]
  },
  {
   "cell_type": "code",
   "execution_count": 7,
   "metadata": {},
   "outputs": [
    {
     "data": {
      "text/html": [
       "<div>\n",
       "<style scoped>\n",
       "    .dataframe tbody tr th:only-of-type {\n",
       "        vertical-align: middle;\n",
       "    }\n",
       "\n",
       "    .dataframe tbody tr th {\n",
       "        vertical-align: top;\n",
       "    }\n",
       "\n",
       "    .dataframe thead th {\n",
       "        text-align: right;\n",
       "    }\n",
       "</style>\n",
       "<table border=\"1\" class=\"dataframe\">\n",
       "  <thead>\n",
       "    <tr style=\"text-align: right;\">\n",
       "      <th></th>\n",
       "      <th>appellation</th>\n",
       "      <th>appellation_slug</th>\n",
       "      <th>classification</th>\n",
       "      <th>color</th>\n",
       "      <th>confidence_index</th>\n",
       "      <th>country</th>\n",
       "      <th>date</th>\n",
       "      <th>is_primeurs</th>\n",
       "      <th>journalist_count</th>\n",
       "      <th>lwin</th>\n",
       "      <th>lwin_11</th>\n",
       "      <th>regions</th>\n",
       "      <th>score</th>\n",
       "      <th>vintage</th>\n",
       "      <th>wine</th>\n",
       "      <th>wine_id</th>\n",
       "      <th>wine_slug</th>\n",
       "      <th>wine_type</th>\n",
       "    </tr>\n",
       "    <tr>\n",
       "      <th>index</th>\n",
       "      <th></th>\n",
       "      <th></th>\n",
       "      <th></th>\n",
       "      <th></th>\n",
       "      <th></th>\n",
       "      <th></th>\n",
       "      <th></th>\n",
       "      <th></th>\n",
       "      <th></th>\n",
       "      <th></th>\n",
       "      <th></th>\n",
       "      <th></th>\n",
       "      <th></th>\n",
       "      <th></th>\n",
       "      <th></th>\n",
       "      <th></th>\n",
       "      <th></th>\n",
       "      <th></th>\n",
       "    </tr>\n",
       "  </thead>\n",
       "  <tbody>\n",
       "    <tr>\n",
       "      <th>0</th>\n",
       "      <td>Chianti Classico Gran Selezione</td>\n",
       "      <td>chianti-classico-gran-selezione</td>\n",
       "      <td>NaN</td>\n",
       "      <td>Red</td>\n",
       "      <td>A+</td>\n",
       "      <td>Italy</td>\n",
       "      <td>2019-06-15</td>\n",
       "      <td>False</td>\n",
       "      <td>5</td>\n",
       "      <td>NaN</td>\n",
       "      <td>NaN</td>\n",
       "      <td>['Tuscany']</td>\n",
       "      <td>93.59</td>\n",
       "      <td>2015</td>\n",
       "      <td>Marchesi Antinori, Badia a Passignano, Chianti...</td>\n",
       "      <td>147377</td>\n",
       "      <td>marchesi-antinori-badia-a-passignano-chianti-c...</td>\n",
       "      <td>NaN</td>\n",
       "    </tr>\n",
       "    <tr>\n",
       "      <th>1</th>\n",
       "      <td>Chateauneuf Du Pape</td>\n",
       "      <td>chateauneuf-du-pape</td>\n",
       "      <td>NaN</td>\n",
       "      <td>Red</td>\n",
       "      <td>B+</td>\n",
       "      <td>France</td>\n",
       "      <td>2019-06-15</td>\n",
       "      <td>False</td>\n",
       "      <td>5</td>\n",
       "      <td>1113130.0</td>\n",
       "      <td>1.113130e+10</td>\n",
       "      <td>['Rhone']</td>\n",
       "      <td>90.68</td>\n",
       "      <td>2015</td>\n",
       "      <td>E. Guigal, Chateauneuf Du Pape</td>\n",
       "      <td>68461</td>\n",
       "      <td>e-guigal-chateauneuf-du-pape</td>\n",
       "      <td>NaN</td>\n",
       "    </tr>\n",
       "    <tr>\n",
       "      <th>2</th>\n",
       "      <td>Saint Emilion Grand Cru</td>\n",
       "      <td>saint-emilion-grand-cru</td>\n",
       "      <td>NaN</td>\n",
       "      <td>Red</td>\n",
       "      <td>B+</td>\n",
       "      <td>France</td>\n",
       "      <td>2019-06-15</td>\n",
       "      <td>False</td>\n",
       "      <td>9</td>\n",
       "      <td>NaN</td>\n",
       "      <td>NaN</td>\n",
       "      <td>['Bordeaux']</td>\n",
       "      <td>89.85</td>\n",
       "      <td>2016</td>\n",
       "      <td>Chateau Montlabert, Saint Emilion Grand Cru</td>\n",
       "      <td>39471</td>\n",
       "      <td>chateau-montlabert-saint-emilion-grand-cru</td>\n",
       "      <td>NaN</td>\n",
       "    </tr>\n",
       "    <tr>\n",
       "      <th>3</th>\n",
       "      <td>Haut Medoc</td>\n",
       "      <td>haut-medoc</td>\n",
       "      <td>Cru Bourgeois</td>\n",
       "      <td>Red</td>\n",
       "      <td>B</td>\n",
       "      <td>France</td>\n",
       "      <td>2019-06-15</td>\n",
       "      <td>False</td>\n",
       "      <td>7</td>\n",
       "      <td>NaN</td>\n",
       "      <td>NaN</td>\n",
       "      <td>['Bordeaux']</td>\n",
       "      <td>89.09</td>\n",
       "      <td>2016</td>\n",
       "      <td>Chateau Larose Trintaudon, Haut Medoc</td>\n",
       "      <td>38120</td>\n",
       "      <td>chateau-larose-trintaudon-haut-medoc</td>\n",
       "      <td>NaN</td>\n",
       "    </tr>\n",
       "    <tr>\n",
       "      <th>4</th>\n",
       "      <td>Puisseguin Saint Emilion</td>\n",
       "      <td>puisseguin-saint-emilion</td>\n",
       "      <td>NaN</td>\n",
       "      <td>Red</td>\n",
       "      <td>C+</td>\n",
       "      <td>France</td>\n",
       "      <td>2019-06-15</td>\n",
       "      <td>False</td>\n",
       "      <td>3</td>\n",
       "      <td>NaN</td>\n",
       "      <td>NaN</td>\n",
       "      <td>['Bordeaux']</td>\n",
       "      <td>88.52</td>\n",
       "      <td>2016</td>\n",
       "      <td>Vignobles Lannoye, Chateau Lanbersac, Puissegu...</td>\n",
       "      <td>140096</td>\n",
       "      <td>vignobles-lannoye-chateau-lanbersac-puisseguin...</td>\n",
       "      <td>NaN</td>\n",
       "    </tr>\n",
       "  </tbody>\n",
       "</table>\n",
       "</div>"
      ],
      "text/plain": [
       "                           appellation                 appellation_slug  \\\n",
       "index                                                                     \n",
       "0      Chianti Classico Gran Selezione  chianti-classico-gran-selezione   \n",
       "1                  Chateauneuf Du Pape              chateauneuf-du-pape   \n",
       "2              Saint Emilion Grand Cru          saint-emilion-grand-cru   \n",
       "3                           Haut Medoc                       haut-medoc   \n",
       "4             Puisseguin Saint Emilion         puisseguin-saint-emilion   \n",
       "\n",
       "      classification color confidence_index country        date  is_primeurs  \\\n",
       "index                                                                          \n",
       "0                NaN   Red               A+   Italy  2019-06-15        False   \n",
       "1                NaN   Red               B+  France  2019-06-15        False   \n",
       "2                NaN   Red               B+  France  2019-06-15        False   \n",
       "3      Cru Bourgeois   Red                B  France  2019-06-15        False   \n",
       "4                NaN   Red               C+  France  2019-06-15        False   \n",
       "\n",
       "       journalist_count       lwin       lwin_11       regions  score  \\\n",
       "index                                                                   \n",
       "0                     5        NaN           NaN   ['Tuscany']  93.59   \n",
       "1                     5  1113130.0  1.113130e+10     ['Rhone']  90.68   \n",
       "2                     9        NaN           NaN  ['Bordeaux']  89.85   \n",
       "3                     7        NaN           NaN  ['Bordeaux']  89.09   \n",
       "4                     3        NaN           NaN  ['Bordeaux']  88.52   \n",
       "\n",
       "       vintage                                               wine  wine_id  \\\n",
       "index                                                                        \n",
       "0         2015  Marchesi Antinori, Badia a Passignano, Chianti...   147377   \n",
       "1         2015                     E. Guigal, Chateauneuf Du Pape    68461   \n",
       "2         2016        Chateau Montlabert, Saint Emilion Grand Cru    39471   \n",
       "3         2016              Chateau Larose Trintaudon, Haut Medoc    38120   \n",
       "4         2016  Vignobles Lannoye, Chateau Lanbersac, Puissegu...   140096   \n",
       "\n",
       "                                               wine_slug wine_type  \n",
       "index                                                               \n",
       "0      marchesi-antinori-badia-a-passignano-chianti-c...       NaN  \n",
       "1                           e-guigal-chateauneuf-du-pape       NaN  \n",
       "2             chateau-montlabert-saint-emilion-grand-cru       NaN  \n",
       "3                   chateau-larose-trintaudon-haut-medoc       NaN  \n",
       "4      vignobles-lannoye-chateau-lanbersac-puisseguin...       NaN  "
      ]
     },
     "execution_count": 7,
     "metadata": {},
     "output_type": "execute_result"
    }
   ],
   "source": [
    "\n",
    "url = 'https://raw.githubusercontent.com/ForgetfulVegan/Project-Snake/marek/branching_exercise/wine_csv.csv'\n",
    "df = pd.read_csv(url, index_col=0)\n",
    "df.head()\n",
    "# df.head()"
   ]
  },
  {
   "cell_type": "code",
   "execution_count": 8,
   "metadata": {
    "scrolled": true
   },
   "outputs": [
    {
     "data": {
      "text/html": [
       "<div>\n",
       "<style scoped>\n",
       "    .dataframe tbody tr th:only-of-type {\n",
       "        vertical-align: middle;\n",
       "    }\n",
       "\n",
       "    .dataframe tbody tr th {\n",
       "        vertical-align: top;\n",
       "    }\n",
       "\n",
       "    .dataframe thead th {\n",
       "        text-align: right;\n",
       "    }\n",
       "</style>\n",
       "<table border=\"1\" class=\"dataframe\">\n",
       "  <thead>\n",
       "    <tr style=\"text-align: right;\">\n",
       "      <th></th>\n",
       "      <th>journalist_count</th>\n",
       "      <th>score</th>\n",
       "      <th>color</th>\n",
       "    </tr>\n",
       "    <tr>\n",
       "      <th>index</th>\n",
       "      <th></th>\n",
       "      <th></th>\n",
       "      <th></th>\n",
       "    </tr>\n",
       "  </thead>\n",
       "  <tbody>\n",
       "    <tr>\n",
       "      <th>0</th>\n",
       "      <td>5</td>\n",
       "      <td>93.59</td>\n",
       "      <td>Red</td>\n",
       "    </tr>\n",
       "    <tr>\n",
       "      <th>1</th>\n",
       "      <td>5</td>\n",
       "      <td>90.68</td>\n",
       "      <td>Red</td>\n",
       "    </tr>\n",
       "    <tr>\n",
       "      <th>2</th>\n",
       "      <td>9</td>\n",
       "      <td>89.85</td>\n",
       "      <td>Red</td>\n",
       "    </tr>\n",
       "    <tr>\n",
       "      <th>3</th>\n",
       "      <td>7</td>\n",
       "      <td>89.09</td>\n",
       "      <td>Red</td>\n",
       "    </tr>\n",
       "    <tr>\n",
       "      <th>4</th>\n",
       "      <td>3</td>\n",
       "      <td>88.52</td>\n",
       "      <td>Red</td>\n",
       "    </tr>\n",
       "  </tbody>\n",
       "</table>\n",
       "</div>"
      ],
      "text/plain": [
       "       journalist_count  score color\n",
       "index                               \n",
       "0                     5  93.59   Red\n",
       "1                     5  90.68   Red\n",
       "2                     9  89.85   Red\n",
       "3                     7  89.09   Red\n",
       "4                     3  88.52   Red"
      ]
     },
     "execution_count": 8,
     "metadata": {},
     "output_type": "execute_result"
    }
   ],
   "source": [
    "#new table with data needed\n",
    "score_count = df[[\"journalist_count\", \"score\", \"color\"]]\n",
    "score_count.head()"
   ]
  },
  {
   "cell_type": "code",
   "execution_count": 9,
   "metadata": {},
   "outputs": [
    {
     "name": "stdout",
     "output_type": "stream",
     "text": [
      "       journalist_count  score  color\n",
      "index                                \n",
      "0                     5  93.59      1\n",
      "1                     5  90.68      1\n",
      "2                     9  89.85      1\n",
      "3                     7  89.09      1\n",
      "4                     3  88.52      1\n",
      "5                     4  88.48      1\n",
      "6                     7  88.22      1\n",
      "7                     6  88.06      1\n",
      "8                    11  87.66      1\n",
      "9                     7  87.47      1\n",
      "10                    3  86.72      1\n",
      "11                    7  86.40      1\n",
      "12                    5  96.30      1\n",
      "13                    3  95.63      1\n",
      "14                    4  95.45      1\n",
      "15                    6  95.15      1\n",
      "16                    4  93.14      1\n",
      "17                    3  92.97      1\n",
      "18                    5  92.95      1\n",
      "19                    3  92.93      1\n",
      "20                    3  92.48      1\n",
      "21                    5  92.31      1\n",
      "22                   19  91.51      1\n",
      "23                    3  90.85      1\n",
      "24                    3  90.39      1\n",
      "25                    4  89.65      1\n",
      "26                    8  88.58      1\n",
      "27                   10  88.47      1\n",
      "28                    3  88.14      2\n",
      "29                    8  87.85      1\n",
      "...                 ...    ...    ...\n",
      "30926                 3  85.72      1\n",
      "30927                 3  85.49      1\n",
      "30928                 3  85.49      2\n",
      "30929                 3  85.41      1\n",
      "30930                 3  84.46      1\n",
      "30931                 3  84.14      1\n",
      "30932                 3  83.85      1\n",
      "30933                 3  83.73      1\n",
      "30934                 3  83.33      1\n",
      "30935                 3  82.85      1\n",
      "30936                 3  82.80      1\n",
      "30937                 3  82.43      1\n",
      "30938                 3  81.90      1\n",
      "30939                 3  81.81      1\n",
      "30940                 3  81.77      1\n",
      "30941                 3  81.40      1\n",
      "30942                 3  80.93      1\n",
      "30943                 3  80.74      1\n",
      "30944                 3  80.53      1\n",
      "30945                 3  80.33      1\n",
      "30946                 3  79.85      1\n",
      "30947                 3  79.73      1\n",
      "30948                 3  79.41      1\n",
      "30949                 3  79.14      1\n",
      "30950                 3  79.05      1\n",
      "30951                 3  78.04      1\n",
      "30952                 3  77.72      1\n",
      "30953                 3  77.36      1\n",
      "30954                 3  77.33      1\n",
      "30955                 3  76.33      1\n",
      "\n",
      "[30956 rows x 3 columns]\n"
     ]
    },
    {
     "name": "stderr",
     "output_type": "stream",
     "text": [
      "C:\\Users\\DB\\Anaconda3\\lib\\site-packages\\pandas\\core\\generic.py:5096: SettingWithCopyWarning: \n",
      "A value is trying to be set on a copy of a slice from a DataFrame.\n",
      "Try using .loc[row_indexer,col_indexer] = value instead\n",
      "\n",
      "See the caveats in the documentation: http://pandas.pydata.org/pandas-docs/stable/indexing.html#indexing-view-versus-copy\n",
      "  self[name] = value\n"
     ]
    }
   ],
   "source": [
    "#Convert string to integer in color column\n",
    "color= {'Red': 1, 'White': 2, 'Pink': 3}\n",
    "#iterate through color column to convert\n",
    "score_count.color= [color[item] for item in score_count.color]\n",
    "print(score_count)"
   ]
  },
  {
   "cell_type": "code",
   "execution_count": 10,
   "metadata": {},
   "outputs": [
    {
     "data": {
      "image/png": "[encoded data removed]",
      "text/plain": [
       "<Figure size 432x288 with 2 Axes>"
      ]
     },
     "metadata": {
      "needs_background": "light"
     },
     "output_type": "display_data"
    }
   ],
   "source": [
    "#find correlation between variable using corr matrix\n",
    "corr = score_count.corr()\n",
    "fig = plt.figure()\n",
    "ax = fig.add_subplot(111)\n",
    "cax = ax.matshow(corr,cmap='coolwarm', vmin=-1, vmax=1)\n",
    "fig.colorbar(cax)\n",
    "ticks = np.arange(0,len(score_count.columns),1)\n",
    "ax.set_xticks(ticks)\n",
    "plt.xticks(rotation=90)\n",
    "ax.set_yticks(ticks)\n",
    "ax.set_xticklabels(score_count.columns)\n",
    "ax.set_yticklabels(score_count.columns)\n",
    "plt.show()"
   ]
  },
  {
   "cell_type": "code",
   "execution_count": 74,
   "metadata": {},
   "outputs": [],
   "source": [
    "#Assign columns variable names for plotting\n",
    "score = score_count.iloc[:, 1]\n",
    "journalist_count= score_count.iloc[:, 0]\n",
    "all_color= score_count.iloc[:, 2]"
   ]
  },
  {
   "cell_type": "code",
   "execution_count": 75,
   "metadata": {
    "scrolled": true
   },
   "outputs": [
    {
     "data": {
      "text/plain": [
       "<function matplotlib.pyplot.show(*args, **kw)>"
      ]
     },
     "execution_count": 75,
     "metadata": {},
     "output_type": "execute_result"
    },
    {
     "data": {
      "image/png": "[encoded data removed]",
      "text/plain": [
       "<Figure size 432x288 with 1 Axes>"
      ]
     },
     "metadata": {
      "needs_background": "light"
     },
     "output_type": "display_data"
    }
   ],
   "source": [
    "#Across all the regions, does the rating correlate with the count (scatter + regression)\n",
    "#Plotting but the above matrix shows me that there is no correlation between the journalist count and score given, since it is equal to 0.\n",
    "plt.scatter(journalist_count, score, marker=\"o\", facecolors=\"red\", edgecolors=\"black\")\n",
    "plt.title(\"Score vs. Number of Raters\")\n",
    "plt.xlabel(\"Number of Raters\")\n",
    "plt.ylabel(\"Score\")\n",
    "plt.show"
   ]
  },
  {
   "cell_type": "code",
   "execution_count": null,
   "metadata": {},
   "outputs": [],
   "source": []
  },
  {
   "cell_type": "code",
   "execution_count": 78,
   "metadata": {},
   "outputs": [
    {
     "data": {
      "text/html": [
       "<div>\n",
       "<style scoped>\n",
       "    .dataframe tbody tr th:only-of-type {\n",
       "        vertical-align: middle;\n",
       "    }\n",
       "\n",
       "    .dataframe tbody tr th {\n",
       "        vertical-align: top;\n",
       "    }\n",
       "\n",
       "    .dataframe thead th {\n",
       "        text-align: right;\n",
       "    }\n",
       "</style>\n",
       "<table border=\"1\" class=\"dataframe\">\n",
       "  <thead>\n",
       "    <tr style=\"text-align: right;\">\n",
       "      <th></th>\n",
       "      <th>journalist_count</th>\n",
       "      <th>score</th>\n",
       "    </tr>\n",
       "    <tr>\n",
       "      <th>color</th>\n",
       "      <th></th>\n",
       "      <th></th>\n",
       "    </tr>\n",
       "  </thead>\n",
       "  <tbody>\n",
       "    <tr>\n",
       "      <th>1</th>\n",
       "      <td>5.778391</td>\n",
       "      <td>90.041722</td>\n",
       "    </tr>\n",
       "    <tr>\n",
       "      <th>2</th>\n",
       "      <td>5.500768</td>\n",
       "      <td>90.611404</td>\n",
       "    </tr>\n",
       "    <tr>\n",
       "      <th>3</th>\n",
       "      <td>4.464286</td>\n",
       "      <td>91.213482</td>\n",
       "    </tr>\n",
       "  </tbody>\n",
       "</table>\n",
       "</div>"
      ],
      "text/plain": [
       "       journalist_count      score\n",
       "color                             \n",
       "1              5.778391  90.041722\n",
       "2              5.500768  90.611404\n",
       "3              4.464286  91.213482"
      ]
     },
     "execution_count": 78,
     "metadata": {},
     "output_type": "execute_result"
    }
   ],
   "source": [
    "#find average score/ average journalist count of red, white, and pink wines to see \"statistically better\"\n",
    "mean_score_count= score_count.groupby(\"color\").mean()\n",
    "mean_score_count"
   ]
  },
  {
   "cell_type": "code",
   "execution_count": 79,
   "metadata": {},
   "outputs": [
    {
     "data": {
      "image/png": "[encoded data removed]",
      "text/plain": [
       "<Figure size 432x288 with 1 Axes>"
      ]
     },
     "metadata": {
      "needs_background": "light"
     },
     "output_type": "display_data"
    }
   ],
   "source": [
    "#rename colors back to strings\n",
    "#bar chart variable\n",
    "w= .5\n",
    "color_wine = [\"Red\", \"White\", \"Pink\"]\n",
    "score_wine= [90.04, 90.61, 91.21]\n",
    "numjourn= [5.78, 5.5, 4.46]\n",
    "by_color= plt.bar(color_wine, score_wine, width= w, color=\"b\", align=\"center\")\n",
    "\n",
    "\n",
    "# Make some labels.\n"
   ]
  },
  {
   "cell_type": "code",
   "execution_count": 51,
   "metadata": {},
   "outputs": [
    {
     "data": {
      "image/png": "[encoded data removed]",
      "text/plain": [
       "<Figure size 432x288 with 1 Axes>"
      ]
     },
     "metadata": {
      "needs_background": "light"
     },
     "output_type": "display_data"
    }
   ],
   "source": [
    "#show the average number of judges for each color of wine\n",
    "by_njourn= plt.bar(color_wine, numjourn, color=\"r\", align=\"center\")\n"
   ]
  },
  {
   "cell_type": "code",
   "execution_count": null,
   "metadata": {},
   "outputs": [],
   "source": []
  },
  {
   "cell_type": "code",
   "execution_count": null,
   "metadata": {},
   "outputs": [],
   "source": []
  },
  {
   "cell_type": "code",
   "execution_count": null,
   "metadata": {},
   "outputs": [],
   "source": []
  },
  {
   "cell_type": "code",
   "execution_count": null,
   "metadata": {},
   "outputs": [],
   "source": []
  },
  {
   "cell_type": "code",
   "execution_count": null,
   "metadata": {},
   "outputs": [],
   "source": []
  },
  {
   "cell_type": "code",
   "execution_count": null,
   "metadata": {},
   "outputs": [],
   "source": []
  }
 ],
 "metadata": {
  "kernelspec": {
   "display_name": "Python 3",
   "language": "python",
   "name": "python3"
  },
  "language_info": {
   "codemirror_mode": {
    "name": "ipython",
    "version": 3
   },
   "file_extension": ".py",
   "mimetype": "text/x-python",
   "name": "python",
   "nbconvert_exporter": "python",
   "pygments_lexer": "ipython3",
   "version": "3.7.3"
  }
 },
 "nbformat": 4,
 "nbformat_minor": 2
}
